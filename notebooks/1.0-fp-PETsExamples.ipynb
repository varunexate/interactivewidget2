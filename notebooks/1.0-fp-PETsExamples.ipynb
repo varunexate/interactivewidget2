{
 "cells": [
  {
   "cell_type": "code",
   "execution_count": 1,
   "id": "f6f7910e",
   "metadata": {},
   "outputs": [],
   "source": [
    "import numpy as np\n",
    "import pandas as pd\n",
    "import cx_Oracle\n",
    "from sqlalchemy import types, create_engine\n",
    "import os\n",
    "import random\n",
    "from pretty_html_table import build_table"
   ]
  },
  {
   "cell_type": "code",
   "execution_count": 2,
   "id": "5f065f33",
   "metadata": {},
   "outputs": [],
   "source": [
    "#Random data set with a sensative attribue of food choise\n",
    "data = {'Name (ID)' : ['Bill','Julia','Rose','Gwen', 'Rose','Peter','James','Anita','Bill',\n",
    "                  'Julia'],\n",
    "        'Age (QID)' : [23, 19, 22, 25, 22, 18, 20, 68, 23, 19], \n",
    "        'Gender (QID)' : ['M','F','F','F','F','M','M','F','M','F'],\n",
    "        'Income £k (SA)' : [23,38,30,32,30,\n",
    "                86,12,24,29,38]}\n",
    "                  \n",
    "dfo = pd.DataFrame(data=data)\n",
    "\n",
    "table1 = build_table(dfo, 'grey_light')\n",
    "with open('table1.html', 'w') as f:\n",
    "    f.write(table1)"
   ]
  },
  {
   "cell_type": "markdown",
   "id": "0e5af9be",
   "metadata": {},
   "source": [
    "# Masking subsitution"
   ]
  },
  {
   "cell_type": "code",
   "execution_count": 3,
   "id": "4e4b4c4e",
   "metadata": {},
   "outputs": [],
   "source": [
    "df = dfo.copy()\n",
    "\n",
    "subgroup_name = [\"Andy\", \"Rebecca\", \"Chris\"]\n",
    "\n",
    "for i in range(0, len(df)):\n",
    "    df.loc[i, \"Name (ID)\"] = subgroup_name[random.randint(0, len(subgroup_name)-1)]\n",
    "\n",
    "df\n",
    "table2 = build_table(df, 'grey_light')\n",
    "with open('table2.html', 'w') as f:\n",
    "    f.write(table2)"
   ]
  },
  {
   "cell_type": "markdown",
   "id": "73833770",
   "metadata": {},
   "source": [
    "# Mask Null"
   ]
  },
  {
   "cell_type": "code",
   "execution_count": 4,
   "id": "74bf0959",
   "metadata": {},
   "outputs": [],
   "source": [
    "df = dfo.copy()\n",
    "df[\"Name (ID)\"] = '*'\n",
    "# df[\"Age (QID)\"] = '*'\n",
    "\n",
    "df\n",
    "\n",
    "table3 = build_table(df, 'grey_light')\n",
    "with open('table3.html', 'w') as f:\n",
    "    f.write(table3)"
   ]
  },
  {
   "cell_type": "markdown",
   "id": "6724903f",
   "metadata": {},
   "source": [
    "# Local supression"
   ]
  },
  {
   "cell_type": "code",
   "execution_count": 25,
   "id": "ad6fe7a2",
   "metadata": {},
   "outputs": [],
   "source": [
    "df = dfo.copy()\n",
    "df[\"Name (ID)\"] = '*'\n",
    "\n",
    "\n",
    "\n",
    "df.loc[5, \"Income £k (SA)\"] = \"*\"\n",
    "df.loc[6, \"Income £k (SA)\"] = \"*\"\n",
    "df.loc[7, \"Age (QID)\"] = \"*\"\n",
    "\n",
    "df\n",
    "\n",
    "table4 = build_table(df, 'grey_light')\n",
    "with open('table4.html', 'w') as f:\n",
    "    f.write(table4)"
   ]
  },
  {
   "cell_type": "markdown",
   "id": "5e93cc9c",
   "metadata": {},
   "source": [
    "# Record supression"
   ]
  },
  {
   "cell_type": "code",
   "execution_count": 26,
   "id": "9db873cf",
   "metadata": {},
   "outputs": [],
   "source": [
    "df = dfo.copy()\n",
    "\n",
    "df.iloc[5] = \"*\"\n",
    "df.iloc[3] = \"*\"\n",
    "\n",
    "df\n",
    "\n",
    "table5 = build_table(df, 'grey_light')\n",
    "with open('table5.html', 'w') as f:\n",
    "    f.write(table5)"
   ]
  },
  {
   "cell_type": "markdown",
   "id": "3befe276",
   "metadata": {},
   "source": [
    "# Anatomisation"
   ]
  },
  {
   "cell_type": "code",
   "execution_count": 27,
   "id": "d2577668",
   "metadata": {},
   "outputs": [],
   "source": [
    "dfa = dfo[[\"Gender (QID)\", \"Income £k (SA)\"]]\n",
    "\n",
    "table6 = build_table(dfa, 'grey_light')\n",
    "with open('table6.html', 'w') as f:\n",
    "    f.write(table6)"
   ]
  },
  {
   "cell_type": "markdown",
   "id": "2c724f3c",
   "metadata": {},
   "source": [
    "# Generalisation"
   ]
  },
  {
   "cell_type": "code",
   "execution_count": 28,
   "id": "3e6aa687",
   "metadata": {},
   "outputs": [],
   "source": [
    "df = dfo.copy()\n",
    "df[\"Name (ID)\"] = '*'\n",
    "labels= ['10-20', '20-30', '30-40', '40-50', '50-60', '60-70']\n",
    "df['Age (QID)'] = pd.cut(df[\"Age (QID)\"], [10, 20, 30, 40, 50, 60, 70], labels=labels,\n",
    "                   include_lowest = True)\n",
    "\n",
    "df\n",
    "\n",
    "table7 = build_table(df, 'grey_light')\n",
    "with open('table7.html', 'w') as f:\n",
    "    f.write(table7)"
   ]
  },
  {
   "cell_type": "markdown",
   "id": "e71ea2ef",
   "metadata": {},
   "source": [
    "# Pseudonymisation"
   ]
  },
  {
   "cell_type": "markdown",
   "id": "66fd1960",
   "metadata": {},
   "source": [
    "## Deterministic"
   ]
  },
  {
   "cell_type": "code",
   "execution_count": 29,
   "id": "c4ad200a",
   "metadata": {},
   "outputs": [],
   "source": [
    "df = dfo.copy()\n",
    "df[\"Name (ID)\"] = ['1', '2', '3', '4', '3', '5', '6', '7', '8', '2']\n",
    "\n",
    "df\n",
    "\n",
    "table8 = build_table(df, 'grey_light')\n",
    "with open('table8.html', 'w') as f:\n",
    "    f.write(table8)"
   ]
  },
  {
   "cell_type": "markdown",
   "id": "b501699d",
   "metadata": {},
   "source": [
    "## Document Randomised"
   ]
  },
  {
   "cell_type": "code",
   "execution_count": 30,
   "id": "53c6748d",
   "metadata": {},
   "outputs": [],
   "source": [
    "df = dfo.copy()\n",
    "df[\"Name (ID)\"] = random.sample(range(0,10), 10)\n",
    "\n",
    "df\n",
    "\n",
    "table9 = build_table(df, 'grey_light')\n",
    "with open('table9.html', 'w') as f:\n",
    "    f.write(table9)"
   ]
  },
  {
   "cell_type": "markdown",
   "id": "998a9922",
   "metadata": {},
   "source": [
    "# Noise addition"
   ]
  },
  {
   "cell_type": "code",
   "execution_count": 31,
   "id": "11cab955",
   "metadata": {},
   "outputs": [],
   "source": [
    "df = dfo.copy()\n",
    "\n",
    "noise = random.sample(range(-8, 8), 10)\n",
    "\n",
    "df[\"Income £k (SA)\"] += noise\n",
    "\n",
    "df\n",
    "\n",
    "table10 = build_table(df, 'grey_light')\n",
    "with open('table10.html', 'w') as f:\n",
    "    f.write(table10)"
   ]
  },
  {
   "cell_type": "markdown",
   "id": "85c192b8",
   "metadata": {},
   "source": [
    "# Permutation"
   ]
  },
  {
   "cell_type": "code",
   "execution_count": 44,
   "id": "5110d7bd",
   "metadata": {},
   "outputs": [],
   "source": [
    "df = dfo.copy()\n",
    "\n",
    "df[\"Income £k (SA)\"] = df[\"Income £k (SA)\"].sample(frac=1).values\n",
    "df[\"Age (QID)\"] = df[\"Age (QID)\"].sample(frac=1).values\n",
    "\n",
    "df\n",
    "\n",
    "table11 = build_table(df, 'grey_light')\n",
    "with open('table11.html', 'w') as f:\n",
    "    f.write(table11)\n"
   ]
  },
  {
   "cell_type": "code",
   "execution_count": 45,
   "id": "98edda9d",
   "metadata": {},
   "outputs": [
    {
     "data": {
      "text/html": [
       "<div>\n",
       "<style scoped>\n",
       "    .dataframe tbody tr th:only-of-type {\n",
       "        vertical-align: middle;\n",
       "    }\n",
       "\n",
       "    .dataframe tbody tr th {\n",
       "        vertical-align: top;\n",
       "    }\n",
       "\n",
       "    .dataframe thead th {\n",
       "        text-align: right;\n",
       "    }\n",
       "</style>\n",
       "<table border=\"1\" class=\"dataframe\">\n",
       "  <thead>\n",
       "    <tr style=\"text-align: right;\">\n",
       "      <th></th>\n",
       "      <th>Name (ID)</th>\n",
       "      <th>Age (QID)</th>\n",
       "      <th>Gender (QID)</th>\n",
       "      <th>Income £k (SA)</th>\n",
       "    </tr>\n",
       "  </thead>\n",
       "  <tbody>\n",
       "    <tr>\n",
       "      <th>0</th>\n",
       "      <td>Bill</td>\n",
       "      <td>68</td>\n",
       "      <td>M</td>\n",
       "      <td>38</td>\n",
       "    </tr>\n",
       "    <tr>\n",
       "      <th>1</th>\n",
       "      <td>Julia</td>\n",
       "      <td>19</td>\n",
       "      <td>F</td>\n",
       "      <td>32</td>\n",
       "    </tr>\n",
       "    <tr>\n",
       "      <th>2</th>\n",
       "      <td>Rose</td>\n",
       "      <td>23</td>\n",
       "      <td>F</td>\n",
       "      <td>23</td>\n",
       "    </tr>\n",
       "    <tr>\n",
       "      <th>3</th>\n",
       "      <td>Gwen</td>\n",
       "      <td>19</td>\n",
       "      <td>F</td>\n",
       "      <td>30</td>\n",
       "    </tr>\n",
       "    <tr>\n",
       "      <th>4</th>\n",
       "      <td>Rose</td>\n",
       "      <td>22</td>\n",
       "      <td>F</td>\n",
       "      <td>38</td>\n",
       "    </tr>\n",
       "    <tr>\n",
       "      <th>5</th>\n",
       "      <td>Peter</td>\n",
       "      <td>22</td>\n",
       "      <td>M</td>\n",
       "      <td>12</td>\n",
       "    </tr>\n",
       "    <tr>\n",
       "      <th>6</th>\n",
       "      <td>James</td>\n",
       "      <td>23</td>\n",
       "      <td>M</td>\n",
       "      <td>29</td>\n",
       "    </tr>\n",
       "    <tr>\n",
       "      <th>7</th>\n",
       "      <td>Anita</td>\n",
       "      <td>25</td>\n",
       "      <td>F</td>\n",
       "      <td>24</td>\n",
       "    </tr>\n",
       "    <tr>\n",
       "      <th>8</th>\n",
       "      <td>Bill</td>\n",
       "      <td>18</td>\n",
       "      <td>M</td>\n",
       "      <td>86</td>\n",
       "    </tr>\n",
       "    <tr>\n",
       "      <th>9</th>\n",
       "      <td>Julia</td>\n",
       "      <td>20</td>\n",
       "      <td>F</td>\n",
       "      <td>30</td>\n",
       "    </tr>\n",
       "  </tbody>\n",
       "</table>\n",
       "</div>"
      ],
      "text/plain": [
       "  Name (ID)  Age (QID) Gender (QID)  Income £k (SA)\n",
       "0      Bill         68            M              38\n",
       "1     Julia         19            F              32\n",
       "2      Rose         23            F              23\n",
       "3      Gwen         19            F              30\n",
       "4      Rose         22            F              38\n",
       "5     Peter         22            M              12\n",
       "6     James         23            M              29\n",
       "7     Anita         25            F              24\n",
       "8      Bill         18            M              86\n",
       "9     Julia         20            F              30"
      ]
     },
     "execution_count": 45,
     "metadata": {},
     "output_type": "execute_result"
    }
   ],
   "source": [
    "df"
   ]
  },
  {
   "cell_type": "markdown",
   "id": "3ceb0a5e",
   "metadata": {},
   "source": [
    "# Microaggregation "
   ]
  },
  {
   "cell_type": "code",
   "execution_count": 33,
   "id": "ae5d9ac3",
   "metadata": {},
   "outputs": [],
   "source": [
    "df = dfo.copy()\n",
    "\n",
    "df[\"Income £k (SA)\"] = [20, 38, 30, 30, 30, 86, 20, 20, 30, 38]\n",
    "\n",
    "df\n",
    "\n",
    "table12 = build_table(df, 'grey_light')\n",
    "with open('table12.html', 'w') as f:\n",
    "    f.write(table12)"
   ]
  },
  {
   "cell_type": "code",
   "execution_count": null,
   "id": "6891c5b2",
   "metadata": {},
   "outputs": [],
   "source": []
  }
 ],
 "metadata": {
  "kernelspec": {
   "display_name": "Python 3 (ipykernel)",
   "language": "python",
   "name": "python3"
  },
  "language_info": {
   "codemirror_mode": {
    "name": "ipython",
    "version": 3
   },
   "file_extension": ".py",
   "mimetype": "text/x-python",
   "name": "python",
   "nbconvert_exporter": "python",
   "pygments_lexer": "ipython3",
   "version": "3.9.7"
  }
 },
 "nbformat": 4,
 "nbformat_minor": 5
}
