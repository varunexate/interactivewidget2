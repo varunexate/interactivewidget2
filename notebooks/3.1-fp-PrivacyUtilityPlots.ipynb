{
 "cells": [
  {
   "cell_type": "code",
   "execution_count": 1,
   "id": "5e64c3db-b5f1-423b-8915-38952886cfd2",
   "metadata": {},
   "outputs": [],
   "source": [
    "import numpy as np\n",
    "import pandas as pd\n",
    "# from sqlalchemy import types, create_engine\n",
    "import matplotlib.pyplot as plt\n",
    "%matplotlib inline\n",
    "\n",
    "from IPython.display import display, HTML\n",
    "from ipywidgets import Layout, interact, IntSlider, widgets\n"
   ]
  },
  {
   "cell_type": "code",
   "execution_count": 2,
   "id": "1e5fdb9a-77d3-4905-b9d1-cc40542659a1",
   "metadata": {},
   "outputs": [],
   "source": [
    "#Random data set with a sensative attribue of food choise\n",
    "data = {'Name (ID)' : ['Bill','Julia','Rose','Gwen','Peter','James','Anita','Rob',\n",
    "                  'Jess','Edith','Catherin','Ellie','Andrew','Ruth','Barry','Hope',\n",
    "                  'Ruby','Sian','Edward','James','Amanda'],\n",
    "        'Age (QID)' : [23,19,22,25,30,18,18,16,28,29,21,\n",
    "                  25,18,27,19,13,25,19,18,19,23], \n",
    "        'Gender (QID)' : ['M','F','F','F','M','M','F','M','F','M','M','F','M','F',\n",
    "                'F','M','F','F','M','F','M'],\n",
    "        'Political Party' : ['Green Party','Red Party','Red Party','Green Party','Green Party',\n",
    "                'Red Party','Red Party','Green Party','Red Party','Green Party',\n",
    "                'Green Party','Green Party','Green Party','Red Party','Green Party',\n",
    "                'Red Party','Green Party','Red Party','Red Party','Red Party',\n",
    "                'Green Party']}\n",
    "                  \n",
    "df = pd.DataFrame(data=data)\n",
    "\n",
    "df['Name (ID)'] = '*'\n"
   ]
  },
  {
   "cell_type": "markdown",
   "id": "9725daf2-7181-443f-b6e9-9b243c284a6b",
   "metadata": {},
   "source": [
    "## Metrics functions"
   ]
  },
  {
   "cell_type": "code",
   "execution_count": 3,
   "id": "760ce315-7187-45b4-9ce7-9888bfc61bce",
   "metadata": {},
   "outputs": [],
   "source": [
    "def k_annonymity(df, qid):\n",
    "    \"\"\"returns the k annonymity value given the quasi-identifier field titles\n",
    "    \n",
    "    Parameters\n",
    "    ----------\n",
    "    df : DataFrame\n",
    "        dataframe for which k value is to be calculated\n",
    "    qid : list\n",
    "        list of quasi-identifier columns\n",
    "        \n",
    "    Returns\n",
    "    -------\n",
    "    int \n",
    "        k value \n",
    "    \"\"\"\n",
    "\n",
    "    quid_groupsize = df.groupby(qid).size()\n",
    "    return quid_groupsize[quid_groupsize > 0].min()\n",
    "\n",
    "\n",
    "def l_diversity(df, qid, sa):\n",
    "    \"\"\"returns the l diversity value given the quasi-identifier field titles\n",
    "    \n",
    "    Parameters\n",
    "    ----------\n",
    "    df : DataFrame\n",
    "        dataframe for which k value is to be calculated\n",
    "    qid : list\n",
    "        list of quasi-identifier columns\n",
    "    sa : list\n",
    "        list of sensitive attribute columns\n",
    "        \n",
    "    Returns\n",
    "    -------\n",
    "    int \n",
    "        l value \n",
    "    \"\"\"\n",
    "    sa_size_quids = df.groupby(qid)[sa].nunique()\n",
    "    return sa_size_quids[sa_size_quids > 0].squeeze().min() # This assumes only one SA!\n",
    "    # l-divesity generally only applies to a single SA \n",
    "    \n",
    "def GIL(uq, lq, u, l):\n",
    "    return (uq - lq) / (u - l)\n",
    "    "
   ]
  },
  {
   "cell_type": "markdown",
   "id": "872316da-81ab-4618-aa3d-36087372d59a",
   "metadata": {},
   "source": [
    "# Combined"
   ]
  },
  {
   "cell_type": "code",
   "execution_count": 4,
   "id": "98fe2cdb-78d1-4c60-8b10-9d493c6bd3dd",
   "metadata": {},
   "outputs": [
    {
     "name": "stdout",
     "output_type": "stream",
     "text": [
      "Set minimum privacy value with k-annonymity:\n"
     ]
    },
    {
     "data": {
      "application/vnd.jupyter.widget-view+json": {
       "model_id": "e1960bfd271c42e9a358c04ec75a6289",
       "version_major": 2,
       "version_minor": 0
      },
      "text/plain": [
       "IntSlider(value=1, layout=Layout(width='400px'), max=5, min=1)"
      ]
     },
     "metadata": {},
     "output_type": "display_data"
    },
    {
     "data": {
      "application/vnd.jupyter.widget-view+json": {
       "model_id": "fb98697c7e404fb3a3de682e8888dd80",
       "version_major": 2,
       "version_minor": 0
      },
      "text/plain": [
       "Output()"
      ]
     },
     "metadata": {},
     "output_type": "display_data"
    },
    {
     "name": "stdout",
     "output_type": "stream",
     "text": [
      "\n",
      "\n",
      "Set age generalisation step size\n"
     ]
    },
    {
     "data": {
      "application/vnd.jupyter.widget-view+json": {
       "model_id": "dfe1cf2e503f4abfaa877f8025022a41",
       "version_major": 2,
       "version_minor": 0
      },
      "text/plain": [
       "IntSlider(value=1, layout=Layout(width='400px'), max=40, min=1)"
      ]
     },
     "metadata": {},
     "output_type": "display_data"
    },
    {
     "data": {
      "application/vnd.jupyter.widget-view+json": {
       "model_id": "cb498a4d6d524abd962f59fa7925fdc4",
       "version_major": 2,
       "version_minor": 0
      },
      "text/plain": [
       "Output()"
      ]
     },
     "metadata": {},
     "output_type": "display_data"
    },
    {
     "name": "stdout",
     "output_type": "stream",
     "text": [
      "\n",
      "\n"
     ]
    },
    {
     "data": {
      "application/vnd.jupyter.widget-view+json": {
       "model_id": "a0fad91fc5d74325baed089495b6fb21",
       "version_major": 2,
       "version_minor": 0
      },
      "text/plain": [
       "Output()"
      ]
     },
     "metadata": {},
     "output_type": "display_data"
    },
    {
     "data": {
      "application/vnd.jupyter.widget-view+json": {
       "model_id": "50be4dc447b940eb8b8234dc79ff2cc7",
       "version_major": 2,
       "version_minor": 0
      },
      "text/plain": [
       "Output()"
      ]
     },
     "metadata": {},
     "output_type": "display_data"
    }
   ],
   "source": [
    "k = widgets.IntSlider(value=1, min=1, max=5, layout=Layout(width='400px'))\n",
    "step_size = widgets.IntSlider(value=1, min=1, max=40,layout=Layout(width='400px'))\n",
    "\n",
    "dfs = df.copy()\n",
    "\n",
    "def meassure_supression(k, step_size):\n",
    "    QID = ['Age (QID)', 'Gender (QID)'] # define quasi-identifyer groups\n",
    "    \n",
    "    dfs = df.copy()\n",
    "    dfs['ranged'] = np.floor((dfs['Age (QID)']/step_size))*step_size\n",
    "    dfs['ranged'] = dfs['ranged'].astype(int)\n",
    "    dfs['Age (QID)'] = dfs['ranged'].astype(str) + '-' + (dfs['ranged']+step_size).astype(str)\n",
    "    dfs = dfs.drop(columns=['ranged'])\n",
    "\n",
    "    orig_length = len(df)\n",
    "    new_length = len(dfs.groupby(QID).filter(lambda x: len(x)>=k))\n",
    "    print(\"%d%% of data supressed to achieve privacy\" %(np.round(((orig_length - new_length) / orig_length)* 100)))\n",
    "\n",
    "def generalise_supress(k, step_size):\n",
    "    dfs = df.copy()\n",
    "    dfs['ranged'] = np.floor((dfs['Age (QID)']/step_size))*step_size\n",
    "    dfs['ranged'] = dfs['ranged'].astype(int)\n",
    "    dfs['Age (QID)'] = dfs['ranged'].astype(str) + '-' + (dfs['ranged']+step_size).astype(str)\n",
    "    dfs = dfs.drop(columns=['ranged'])\n",
    "    QID = ['Age (QID)', 'Gender (QID)']\n",
    "    index = dfs.groupby(QID).filter(lambda x: len(x)<k).index\n",
    "    dfs.iloc[index] = '----------'\n",
    "#     display(dfs)\n",
    "    display(HTML(dfs.to_html(index=False)))\n",
    "\n",
    "    \n",
    "def label_age(step_size):\n",
    "    print('Ages changed to %d year steps' %(step_size))\n",
    "    \n",
    "\n",
    "def meassure_k(k, step_size):\n",
    "    QID = ['Age (QID)', 'Gender (QID)'] # define quasi-identifyer groups\n",
    "    dfs = df.copy()\n",
    "    dfs['ranged'] = np.floor((dfs['Age (QID)']/step_size))*step_size\n",
    "    dfs['ranged'] = dfs['ranged'].astype(int)\n",
    "    gil = GIL(max(dfs['ranged'] + step_size) , min(dfs['ranged']), max(dfs['Age (QID)']), min(dfs['Age (QID)']))\n",
    "    dfs['Age (QID)'] = dfs['ranged'].astype(str) + '-' + (dfs['ranged']+step_size).astype(str)\n",
    "   \n",
    "    dfs = dfs.groupby(QID).filter(lambda x: len(x)>=k)\n",
    "    quid_groupsize = dfs.groupby(QID).size()\n",
    "    k_val = quid_groupsize[quid_groupsize > 0].min()\n",
    "    if np.isnan(k_val): k_val = 0\n",
    "    print('k-annonymity has a value of k = %d' %k_val)\n",
    "    print(\"Generalised information loss = %.3f\" %gil)\n",
    "\n",
    "    \n",
    "out1 = widgets.interactive_output(meassure_supression, {'k': k, 'step_size': step_size})\n",
    "out2 = widgets.interactive_output(generalise_supress, {'k': k, 'step_size': step_size})\n",
    "\n",
    "out3 = widgets.interactive_output(label_age, {'step_size': step_size})\n",
    "out4 = widgets.interactive_output(meassure_k, {'k': k, 'step_size': step_size})\n",
    "\n",
    "print('Set minimum privacy value with k-annonymity:')\n",
    "display(k)\n",
    "display(out1)\n",
    "\n",
    "print('\\n')\n",
    "\n",
    "print('Set age generalisation step size')\n",
    "display(step_size)\n",
    "display(out3)\n",
    "\n",
    "print('\\n')\n",
    "\n",
    "display(out4)\n",
    "display(out2)\n"
   ]
  },
  {
   "cell_type": "markdown",
   "id": "85dd7a48-430e-42eb-af27-15e0eda36866",
   "metadata": {},
   "source": [
    "# Plots"
   ]
  },
  {
   "cell_type": "code",
   "execution_count": 183,
   "id": "f51e2498-c9fe-4115-af83-cc295ec61c07",
   "metadata": {},
   "outputs": [],
   "source": [
    "# record supression vs k_annonymity\n",
    "QID = ['Age (QID)', 'Gender (QID)'] # define quasi-identifyer groups\n",
    "orig_length = len(df)\n",
    "supressed_vals = []\n",
    "k_vals = np.arange(1, 6)\n",
    "\n",
    "for i in k_vals:     \n",
    "    new_length = len(df.groupby(QID).filter(lambda x: len(x)>=i))\n",
    "    supressed_vals.append(((orig_length - new_length) / orig_length)* 100)\n",
    "    "
   ]
  },
  {
   "cell_type": "code",
   "execution_count": 184,
   "id": "43d2ff35-f8f7-4a92-847a-fa01aa390521",
   "metadata": {},
   "outputs": [
    {
     "data": {
      "text/plain": [
       "Text(0, 0.5, 'k-annonymity value')"
      ]
     },
     "execution_count": 184,
     "metadata": {},
     "output_type": "execute_result"
    },
    {
     "data": {
      "image/png": "[encoded data removed]",
      "text/plain": [
       "<Figure size 432x288 with 1 Axes>"
      ]
     },
     "metadata": {
      "needs_background": "light"
     },
     "output_type": "display_data"
    }
   ],
   "source": [
    "plt.plot(supressed_vals, k_vals, c='k')\n",
    "plt.scatter(supressed_vals, k_vals, marker='x', c='k')\n",
    "plt.xlabel(\"percentage of data supressed\") \n",
    "plt.ylabel(\"k-annonymity value\")\n"
   ]
  },
  {
   "cell_type": "code",
   "execution_count": 185,
   "id": "df34983b-fbae-4e74-876d-a7fe66376d10",
   "metadata": {},
   "outputs": [],
   "source": [
    "dfs = df.copy()\n",
    "qid = ['ranged', 'Gender (QID)'] # define quasi-identifyer groups\n",
    "k_vals = []\n",
    "generalise_vals = np.arange(1, 40)\n",
    "\n",
    "for step_size in generalise_vals:\n",
    "    dfs['ranged'] = np.floor((dfs['Age (QID)'] / step_size))*step_size\n",
    "    dfs['ranged'] = dfs['ranged'].astype(int)\n",
    "    k_vals.append(k_annonymity(dfs, qid))\n"
   ]
  },
  {
   "cell_type": "code",
   "execution_count": 186,
   "id": "5a8e5ec6-24e5-401e-9eec-e3314eb93df9",
   "metadata": {},
   "outputs": [
    {
     "data": {
      "text/plain": [
       "Text(0, 0.5, 'k-annonymity value')"
      ]
     },
     "execution_count": 186,
     "metadata": {},
     "output_type": "execute_result"
    },
    {
     "data": {
      "image/png": "[encoded data removed]",
      "text/plain": [
       "<Figure size 432x288 with 1 Axes>"
      ]
     },
     "metadata": {
      "needs_background": "light"
     },
     "output_type": "display_data"
    }
   ],
   "source": [
    "plt.plot(generalise_vals, k_vals, c='k')\n",
    "plt.scatter(generalise_vals, k_vals, marker='x', c='k')\n",
    "plt.xlabel(\"percentage of data supressed\") \n",
    "plt.ylabel(\"k-annonymity value\")\n"
   ]
  },
  {
   "cell_type": "code",
   "execution_count": null,
   "id": "baff06ab-fadc-438a-a963-4b8ef295183f",
   "metadata": {},
   "outputs": [],
   "source": []
  }
 ],
 "metadata": {
  "kernelspec": {
   "display_name": "Python 3 (ipykernel)",
   "language": "python",
   "name": "python3"
  },
  "language_info": {
   "codemirror_mode": {
    "name": "ipython",
    "version": 3
   },
   "file_extension": ".py",
   "mimetype": "text/x-python",
   "name": "python",
   "nbconvert_exporter": "python",
   "pygments_lexer": "ipython3",
   "version": "3.9.7"
  }
 },
 "nbformat": 4,
 "nbformat_minor": 5
}
