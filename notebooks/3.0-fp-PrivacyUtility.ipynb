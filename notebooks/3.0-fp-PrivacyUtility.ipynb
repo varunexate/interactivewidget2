{
 "cells": [
  {
   "cell_type": "code",
   "execution_count": 1,
   "id": "5e64c3db-b5f1-423b-8915-38952886cfd2",
   "metadata": {},
   "outputs": [],
   "source": [
    "# nbi:hide_in\n",
    "import numpy as np\n",
    "import pandas as pd\n",
    "import matplotlib.pyplot as plt\n",
    "%matplotlib inline\n",
    "\n",
    "from IPython.display import display, HTML\n",
    "from ipywidgets import Layout, interact, IntSlider, widgets"
   ]
  },
  {
   "cell_type": "code",
   "execution_count": 2,
   "id": "1e5fdb9a-77d3-4905-b9d1-cc40542659a1",
   "metadata": {},
   "outputs": [],
   "source": [
    "# nbi:hide_in\n",
    "#Random data set with a sensative attribue of food choise\n",
    "data = {'Name (ID)' : ['Bill','Julia','Rose','Gwen','Peter','James','Anita','Rob',\n",
    "                  'Jess','Edith','Catherin','Ellie','Andrew','Ruth','Barry','Hope',\n",
    "                  'Ruby','Sian','Edward','James','Amanda'],\n",
    "        'Age (QID)' : [23,19,22,25,30,18,18,16,28,29,21,\n",
    "                  25,18,27,19,13,25,19,18,19,23], \n",
    "        'Gender (QID)' : ['M','F','F','F','M','M','F','M','F','M','M','F','M','F',\n",
    "                'F','M','F','F','M','F','M'],\n",
    "        'Political Party' : ['Green Party','Red Party','Red Party','Green Party','Green Party',\n",
    "                'Red Party','Red Party','Green Party','Red Party','Green Party',\n",
    "                'Green Party','Green Party','Green Party','Red Party','Green Party',\n",
    "                'Red Party','Green Party','Red Party','Red Party','Red Party',\n",
    "                'Green Party']}\n",
    "                  \n",
    "df = pd.DataFrame(data=data)\n",
    "\n",
    "df['Name (ID)'] = '*'\n"
   ]
  },
  {
   "cell_type": "code",
   "execution_count": 3,
   "id": "760ce315-7187-45b4-9ce7-9888bfc61bce",
   "metadata": {},
   "outputs": [],
   "source": [
    "# nbi:hide_in\n",
    "def k_annonymity(df, qid):\n",
    "    \"\"\"returns the k annonymity value given the quasi-identifier field titles\n",
    "    \n",
    "    Parameters\n",
    "    ----------\n",
    "    df : DataFrame\n",
    "        dataframe for which k value is to be calculated\n",
    "    qid : list\n",
    "        list of quasi-identifier columns\n",
    "        \n",
    "    Returns\n",
    "    -------\n",
    "    int \n",
    "        k value \n",
    "    \"\"\"\n",
    "\n",
    "    quid_groupsize = df.groupby(qid).size()\n",
    "    return quid_groupsize[quid_groupsize > 0].min()\n",
    "\n",
    "\n",
    "def l_diversity(df, qid, sa):\n",
    "    \"\"\"returns the l diversity value given the quasi-identifier field titles\n",
    "    \n",
    "    Parameters\n",
    "    ----------\n",
    "    df : DataFrame\n",
    "        dataframe for which k value is to be calculated\n",
    "    qid : list\n",
    "        list of quasi-identifier columns\n",
    "    sa : list\n",
    "        list of sensitive attribute columns\n",
    "        \n",
    "    Returns\n",
    "    -------\n",
    "    int \n",
    "        l value \n",
    "    \"\"\"\n",
    "    sa_size_quids = df.groupby(qid)[sa].nunique()\n",
    "    return sa_size_quids[sa_size_quids > 0].squeeze().min() # This assumes only one SA!\n",
    "    # l-divesity generally only applies to a single SA \n",
    "    \n",
    "def GIL(uq, lq, u, l):\n",
    "    return (uq - lq) / (u - l)\n",
    "    "
   ]
  },
  {
   "cell_type": "code",
   "execution_count": 11,
   "id": "98fe2cdb-78d1-4c60-8b10-9d493c6bd3dd",
   "metadata": {},
   "outputs": [
    {
     "name": "stdout",
     "output_type": "stream",
     "text": [
      "Set minimum privacy value with k-annonymity:\n"
     ]
    },
    {
     "data": {
      "application/vnd.jupyter.widget-view+json": {
       "model_id": "17f92c19bef945a4ab8cce79782b2754",
       "version_major": 2,
       "version_minor": 0
      },
      "text/plain": [
       "IntSlider(value=1, layout=Layout(width='400px'), max=5, min=1)"
      ]
     },
     "metadata": {},
     "output_type": "display_data"
    },
    {
     "data": {
      "application/vnd.jupyter.widget-view+json": {
       "model_id": "33f49833aca64ab99264b5a4c9869be6",
       "version_major": 2,
       "version_minor": 0
      },
      "text/plain": [
       "Output()"
      ]
     },
     "metadata": {},
     "output_type": "display_data"
    },
    {
     "name": "stdout",
     "output_type": "stream",
     "text": [
      "\n",
      "\n",
      "Set age generalisation step size\n"
     ]
    },
    {
     "data": {
      "application/vnd.jupyter.widget-view+json": {
       "model_id": "a935f8ab1d29484caf6436cc40c1c18a",
       "version_major": 2,
       "version_minor": 0
      },
      "text/plain": [
       "IntSlider(value=1, layout=Layout(width='400px'), max=40, min=1)"
      ]
     },
     "metadata": {},
     "output_type": "display_data"
    },
    {
     "data": {
      "application/vnd.jupyter.widget-view+json": {
       "model_id": "d10e788128984f049f393c854ad3a5a1",
       "version_major": 2,
       "version_minor": 0
      },
      "text/plain": [
       "Output()"
      ]
     },
     "metadata": {},
     "output_type": "display_data"
    },
    {
     "name": "stdout",
     "output_type": "stream",
     "text": [
      "\n",
      "\n"
     ]
    },
    {
     "data": {
      "application/vnd.jupyter.widget-view+json": {
       "model_id": "929247cfead64cf3947e384fbd8f5c4e",
       "version_major": 2,
       "version_minor": 0
      },
      "text/plain": [
       "Output()"
      ]
     },
     "metadata": {},
     "output_type": "display_data"
    },
    {
     "data": {
      "application/vnd.jupyter.widget-view+json": {
       "model_id": "e62ac3e4f61049b281d8fdf66fd5bc70",
       "version_major": 2,
       "version_minor": 0
      },
      "text/plain": [
       "Output()"
      ]
     },
     "metadata": {},
     "output_type": "display_data"
    }
   ],
   "source": [
    "# nbi:hide_in\n",
    "k = widgets.IntSlider(value=1, min=1, max=5, layout=Layout(width='400px'))\n",
    "step_size = widgets.IntSlider(value=1, min=1, max=40,layout=Layout(width='400px'))\n",
    "\n",
    "dfs = df.copy()\n",
    "\n",
    "def meassure_supression(k, step_size):\n",
    "    QID = ['Age (QID)', 'Gender (QID)'] # define quasi-identifyer groups\n",
    "    \n",
    "    dfs = df.copy()\n",
    "    dfs['ranged'] = np.floor((dfs['Age (QID)']/step_size))*step_size\n",
    "    dfs['ranged'] = dfs['ranged'].astype(int)\n",
    "    dfs['Age (QID)'] = dfs['ranged'].astype(str) + '-' + (dfs['ranged']+step_size).astype(str)\n",
    "    dfs = dfs.drop(columns=['ranged'])\n",
    "\n",
    "    orig_length = len(df)\n",
    "    new_length = len(dfs.groupby(QID).filter(lambda x: len(x)>=k))\n",
    "    print(\"%d%% of data supressed to achieve privacy\" %(np.round(((orig_length - new_length) / orig_length)* 100)))\n",
    "\n",
    "def generalise_supress(k, step_size):\n",
    "    dfs = df.copy()\n",
    "    dfs['ranged'] = np.floor((dfs['Age (QID)']/step_size))*step_size\n",
    "    dfs['ranged'] = dfs['ranged'].astype(int)\n",
    "    dfs['Age (QID)'] = dfs['ranged'].astype(str) + '-' + (dfs['ranged']+step_size).astype(str)\n",
    "    dfs = dfs.drop(columns=['ranged'])\n",
    "    QID = ['Age (QID)', 'Gender (QID)']\n",
    "    index = dfs.groupby(QID).filter(lambda x: len(x)<k).index\n",
    "    dfs.iloc[index] = '----------'\n",
    "#     display(dfs)\n",
    "    display(HTML(dfs.to_html(index=False)))\n",
    "\n",
    "    \n",
    "def label_age(step_size):\n",
    "    print('Ages changed to %d year steps' %(step_size))\n",
    "    \n",
    "\n",
    "def meassure_k(k, step_size):\n",
    "    QID = ['Age (QID)', 'Gender (QID)'] # define quasi-identifyer groups\n",
    "    dfs = df.copy()\n",
    "    dfs['ranged'] = np.floor((dfs['Age (QID)']/step_size))*step_size\n",
    "    dfs['ranged'] = dfs['ranged'].astype(int)\n",
    "    gil = GIL(max(dfs['ranged'] + step_size) , min(dfs['ranged']), max(dfs['Age (QID)']), min(dfs['Age (QID)']))\n",
    "    dfs['Age (QID)'] = dfs['ranged'].astype(str) + '-' + (dfs['ranged']+step_size).astype(str)\n",
    "   \n",
    "    dfs = dfs.groupby(QID).filter(lambda x: len(x)>=k)\n",
    "    quid_groupsize = dfs.groupby(QID).size()\n",
    "    k_val = quid_groupsize[quid_groupsize > 0].min()\n",
    "    if np.isnan(k_val): k_val = 0\n",
    "    print('k-annonymity has a value of k = %d' %k_val)\n",
    "    print(\"Generalised information loss = %.3f\" %gil)\n",
    "\n",
    "    \n",
    "out1 = widgets.interactive_output(meassure_supression, {'k': k, 'step_size': step_size})\n",
    "out2 = widgets.interactive_output(generalise_supress, {'k': k, 'step_size': step_size})\n",
    "\n",
    "out3 = widgets.interactive_output(label_age, {'step_size': step_size})\n",
    "out4 = widgets.interactive_output(meassure_k, {'k': k, 'step_size': step_size})\n",
    "\n",
    "print('Set minimum privacy value with k-annonymity:')\n",
    "display(k)\n",
    "display(out1)\n",
    "\n",
    "print('\\n')\n",
    "\n",
    "print('Set age generalisation step size')\n",
    "display(step_size)\n",
    "display(out3)\n",
    "\n",
    "print('\\n')\n",
    "\n",
    "display(out4)\n",
    "display(out2)\n"
   ]
  }
 ],
 "metadata": {
  "kernelspec": {
   "display_name": "Python 3 (ipykernel)",
   "language": "python",
   "name": "python3"
  },
  "language_info": {
   "codemirror_mode": {
    "name": "ipython",
    "version": 3
   },
   "file_extension": ".py",
   "mimetype": "text/x-python",
   "name": "python",
   "nbconvert_exporter": "python",
   "pygments_lexer": "ipython3",
   "version": "3.7.9"
  }
 },
 "nbformat": 4,
 "nbformat_minor": 5
}
