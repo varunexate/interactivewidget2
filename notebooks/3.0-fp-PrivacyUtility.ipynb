{
 "cells": [
  {
   "cell_type": "code",
   "execution_count": 16,
   "id": "5e64c3db-b5f1-423b-8915-38952886cfd2",
   "metadata": {},
   "outputs": [],
   "source": [
    "# nbi:hide_in\n",
    "import numpy as np\n",
    "import pandas as pd\n",
    "import matplotlib.pyplot as plt\n",
    "%matplotlib inline\n",
    "\n",
    "from IPython.display import display, HTML\n",
    "from ipywidgets import Layout, interact, IntSlider, widgets\n",
    "import PIL\n",
    "from skimage import io\n"
   ]
  },
  {
   "cell_type": "code",
   "execution_count": 17,
   "id": "1e5fdb9a-77d3-4905-b9d1-cc40542659a1",
   "metadata": {},
   "outputs": [],
   "source": [
    "# nbi:hide_in\n",
    "#Random data set with a sensative attribue of food choise\n",
    "data = {'Name (ID)' : ['Bill','Julia','Rose','Gwen','Peter','James','Anita','Rob',\n",
    "                  'Jess','Edith','Catherin','Ellie','Andrew','Ruth','Barry','Hope',\n",
    "                  'Ruby','Sian','Edward','James','Amanda'],\n",
    "        'Age (QID)' : [23,19,22,25,30,18,18,16,28,29,21,\n",
    "                  25,18,27,19,13,25,19,18,19,23], \n",
    "        'Gender (QID)' : ['M','F','F','F','M','M','F','M','F','M','M','F','M','F',\n",
    "                'F','M','F','F','M','F','M'],\n",
    "        'Political Party' : ['Green Party','Red Party','Red Party','Green Party','Green Party',\n",
    "                'Red Party','Red Party','Green Party','Red Party','Green Party',\n",
    "                'Green Party','Green Party','Green Party','Red Party','Green Party',\n",
    "                'Red Party','Green Party','Red Party','Red Party','Red Party',\n",
    "                'Green Party']}\n",
    "                  \n",
    "df = pd.DataFrame(data=data)\n",
    "\n",
    "df['Name (ID)'] = '*'\n"
   ]
  },
  {
   "cell_type": "code",
   "execution_count": 18,
   "id": "760ce315-7187-45b4-9ce7-9888bfc61bce",
   "metadata": {},
   "outputs": [],
   "source": [
    "# nbi:hide_in\n",
    "def k_annonymity(df, qid):\n",
    "    \"\"\"returns the k annonymity value given the quasi-identifier field titles\n",
    "    \n",
    "    Parameters\n",
    "    ----------\n",
    "    df : DataFrame\n",
    "        dataframe for which k value is to be calculated\n",
    "    qid : list\n",
    "        list of quasi-identifier columns\n",
    "        \n",
    "    Returns\n",
    "    -------\n",
    "    int \n",
    "        k value \n",
    "    \"\"\"\n",
    "\n",
    "    quid_groupsize = df.groupby(qid).size()\n",
    "    return quid_groupsize[quid_groupsize > 0].min()\n",
    "\n",
    "\n",
    "def l_diversity(df, qid, sa):\n",
    "    \"\"\"returns the l diversity value given the quasi-identifier field titles\n",
    "    \n",
    "    Parameters\n",
    "    ----------\n",
    "    df : DataFrame\n",
    "        dataframe for which k value is to be calculated\n",
    "    qid : list\n",
    "        list of quasi-identifier columns\n",
    "    sa : list\n",
    "        list of sensitive attribute columns\n",
    "        \n",
    "    Returns\n",
    "    -------\n",
    "    int \n",
    "        l value \n",
    "    \"\"\"\n",
    "    sa_size_quids = df.groupby(qid)[sa].nunique()\n",
    "    return sa_size_quids[sa_size_quids > 0].squeeze().min() # This assumes only one SA!\n",
    "    # l-divesity generally only applies to a single SA \n",
    "    \n",
    "def GIL(uq, lq, u, l):\n",
    "    return (uq - lq) / (u - l)\n",
    "    "
   ]
  },
  {
   "cell_type": "code",
   "execution_count": 19,
   "id": "98fe2cdb-78d1-4c60-8b10-9d493c6bd3dd",
   "metadata": {},
   "outputs": [
    {
     "name": "stdout",
     "output_type": "stream",
     "text": [
      "Set minimum privacy value with k-anonymity:\n"
     ]
    },
    {
     "data": {
      "application/vnd.jupyter.widget-view+json": {
       "model_id": "dc425fae35a94c18964a985c9fa6b47e",
       "version_major": 2,
       "version_minor": 0
      },
      "text/plain": [
       "IntSlider(value=1, layout=Layout(width='400px'), max=5, min=1)"
      ]
     },
     "metadata": {},
     "output_type": "display_data"
    },
    {
     "name": "stdout",
     "output_type": "stream",
     "text": [
      "\n",
      "\n",
      "Set age generalisation step size\n"
     ]
    },
    {
     "data": {
      "application/vnd.jupyter.widget-view+json": {
       "model_id": "1a3245b811ba47d4ac672cf96b360fcd",
       "version_major": 2,
       "version_minor": 0
      },
      "text/plain": [
       "IntSlider(value=1, layout=Layout(width='400px'), max=40, min=1)"
      ]
     },
     "metadata": {},
     "output_type": "display_data"
    },
    {
     "data": {
      "application/vnd.jupyter.widget-view+json": {
       "model_id": "78b7489e17a140619e5a529c356349ba",
       "version_major": 2,
       "version_minor": 0
      },
      "text/plain": [
       "Output()"
      ]
     },
     "metadata": {},
     "output_type": "display_data"
    },
    {
     "data": {
      "application/vnd.jupyter.widget-view+json": {
       "model_id": "04090ac05b844af5a903fe7980e36e72",
       "version_major": 2,
       "version_minor": 0
      },
      "text/plain": [
       "Output()"
      ]
     },
     "metadata": {},
     "output_type": "display_data"
    },
    {
     "data": {
      "application/vnd.jupyter.widget-view+json": {
       "model_id": "159b6d916d034d839ebff40bfb4e0354",
       "version_major": 2,
       "version_minor": 0
      },
      "text/plain": [
       "Output()"
      ]
     },
     "metadata": {},
     "output_type": "display_data"
    },
    {
     "data": {
      "application/vnd.jupyter.widget-view+json": {
       "model_id": "eb291ccf99d94fe89cb8f1ab21f7f200",
       "version_major": 2,
       "version_minor": 0
      },
      "text/plain": [
       "Output()"
      ]
     },
     "metadata": {},
     "output_type": "display_data"
    }
   ],
   "source": [
    "# nbi:hide_in\n",
    "k = widgets.IntSlider(value=1, min=1, max=5, layout=Layout(width='400px'))\n",
    "step_size = widgets.IntSlider(value=1, min=1, max=40,layout=Layout(width='400px'))\n",
    "\n",
    "dfs = df.copy()\n",
    "\n",
    "\n",
    "def generalise_supress(k, step_size):\n",
    "    dfs = df.copy()\n",
    "    dfs['ranged'] = np.floor((dfs['Age (QID)']/step_size))*step_size\n",
    "    dfs['ranged'] = dfs['ranged'].astype(int)\n",
    "    dfs['Age (QID)'] = dfs['ranged'].astype(str) + '-' + (dfs['ranged']+step_size).astype(str)\n",
    "    dfs = dfs.drop(columns=['ranged'])\n",
    "    QID = ['Age (QID)', 'Gender (QID)']\n",
    "    index = dfs.groupby(QID).filter(lambda x: len(x)<k).index\n",
    "    dfs.iloc[index] = '----------'\n",
    "    display(HTML(dfs.to_html(index=False)))\n",
    "\n",
    "    \n",
    "def label_age(step_size):\n",
    "    print('Ages changed to %d year steps' %(step_size))\n",
    "    \n",
    "\n",
    "def meassure_k(k, step_size):\n",
    "    QID = ['Age (QID)', 'Gender (QID)'] # define quasi-identifyer groups\n",
    "    dfs = df.copy()\n",
    "    dfs['ranged'] = np.floor((dfs['Age (QID)']/step_size))*step_size\n",
    "    dfs['ranged'] = dfs['ranged'].astype(int)\n",
    "    gil = GIL(max(dfs['ranged'] + step_size) , min(dfs['ranged']), max(dfs['Age (QID)']), min(dfs['Age (QID)']))\n",
    "    dfs['Age (QID)'] = dfs['ranged'].astype(str) + '-' + (dfs['ranged']+step_size).astype(str)\n",
    "   \n",
    "    orig_length = len(df)\n",
    "    new_length = len(dfs.groupby(QID).filter(lambda x: len(x)>=k))\n",
    "    \n",
    "    dfs = dfs.groupby(QID).filter(lambda x: len(x)>=k)\n",
    "    quid_groupsize = dfs.groupby(QID).size()\n",
    "    k_val = quid_groupsize[quid_groupsize > 0].min()\n",
    "    if np.isnan(k_val): k_val = 0\n",
    "    \n",
    "    print('PRIVACY -> k-annonymity = %d' %k_val)\n",
    "    print('\\n')\n",
    "    print(\"UTILITY -> percentage suppressed %d%%\" %(np.round(((orig_length - new_length) / orig_length)* 100)))\n",
    "    print(\"UTILITY -> generalisation information loss = %.3f\" %gil)\n",
    "\n",
    "    \n",
    "def image(k, step_size):\n",
    "    dfs = df.copy()\n",
    "    dfs['ranged'] = np.floor((dfs['Age (QID)']/step_size))*step_size\n",
    "    dfs['ranged'] = dfs['ranged'].astype(int)\n",
    "    dfs['Age (QID)'] = dfs['ranged'].astype(str) + '-' + (dfs['ranged']+step_size).astype(str)\n",
    "    dfs = dfs.drop(columns=['ranged'])\n",
    "    QID = ['Age (QID)', 'Gender (QID)']\n",
    "  \n",
    "    orig_length = len(df)\n",
    "    new_length = len(dfs.groupby(QID).filter(lambda x: len(x)>=k))\n",
    "    \n",
    "    dfs = dfs.groupby(QID).filter(lambda x: len(x)>=k)\n",
    "    quid_groupsize = dfs.groupby(QID).size()\n",
    "    k_val = quid_groupsize[quid_groupsize > 0].min()\n",
    "    \n",
    "    perc_loss = (orig_length - new_length) / orig_length * 100\n",
    "    perc_step = step_size / 40 * 100 \n",
    "    utility_index = (perc_loss + perc_step)\n",
    "\n",
    "    if (k_val > 0):\n",
    "        privacy_index = (k_val / 10) * 100 \n",
    "    else:\n",
    "        privacy_index = 100\n",
    "    \n",
    "    \n",
    "    plt.figure()\n",
    "    plt.bar(1, np.clip([100-utility_index], 0 , 100)[0], width=0.6, color='#2ca7d7')\n",
    "    plt.bar(2, privacy_index, width=0.6, color='#002f91') \n",
    "    plt.ylim(-2, 102)\n",
    "    plt.xlim(0.5, 2.5)\n",
    "    plt.xticks([1,2], [\"Utility\", \"Privacy\"], fontsize=12)\n",
    "    plt.yticks([0, 100], [\"Bad\", \"Good\"], fontsize=12)\n",
    "    plt.show()\n",
    "\n",
    "\n",
    "\n",
    "out2 = widgets.interactive_output(generalise_supress, {'k': k, 'step_size': step_size})\n",
    "\n",
    "out3 = widgets.interactive_output(label_age, {'step_size': step_size})\n",
    "out4 = widgets.interactive_output(meassure_k, {'k': k, 'step_size': step_size})\n",
    "image = widgets.interactive_output(image, {'k': k, 'step_size': step_size})\n",
    "\n",
    "print('Set minimum privacy value with k-anonymity:')\n",
    "display(k)\n",
    "\n",
    "print('\\n')\n",
    "\n",
    "print('Set age generalisation step size')\n",
    "display(step_size)\n",
    "display(out3)\n",
    "\n",
    "\n",
    "display(out4)\n",
    "\n",
    "\n",
    "display(image)\n",
    "\n",
    "display(out2)\n"
   ]
  }
 ],
 "metadata": {
  "kernelspec": {
   "display_name": "Python 3 (ipykernel)",
   "language": "python",
   "name": "python3"
  },
  "language_info": {
   "codemirror_mode": {
    "name": "ipython",
    "version": 3
   },
   "file_extension": ".py",
   "mimetype": "text/x-python",
   "name": "python",
   "nbconvert_exporter": "python",
   "pygments_lexer": "ipython3",
   "version": "3.7.9"
  }
 },
 "nbformat": 4,
 "nbformat_minor": 5
}
