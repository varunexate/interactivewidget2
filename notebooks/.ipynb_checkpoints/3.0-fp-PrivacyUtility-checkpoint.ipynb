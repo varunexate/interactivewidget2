{
 "cells": [
  {
   "cell_type": "code",
   "execution_count": 1,
   "id": "5e64c3db-b5f1-423b-8915-38952886cfd2",
   "metadata": {},
   "outputs": [],
   "source": [
    "import numpy as np\n",
    "import pandas as pd\n",
    "# from sqlalchemy import types, create_engine\n",
    "import matplotlib.pyplot as plt\n",
    "%matplotlib inline\n",
    "\n",
    "from IPython.display import display, HTML\n",
    "from ipywidgets import Layout, interact, IntSlider, widgets\n"
   ]
  },
  {
   "cell_type": "code",
   "execution_count": 2,
   "id": "1e5fdb9a-77d3-4905-b9d1-cc40542659a1",
   "metadata": {},
   "outputs": [],
   "source": [
    "#Random data set with a sensative attribue of food choise\n",
    "data = {'Name (ID)' : ['Bill','Julia','Rose','Gwen','Peter','James','Anita','Rob',\n",
    "                  'Jess','Edith','Catherin','Ellie','Andrew','Ruth','Barry','Hope',\n",
    "                  'Ruby','Sian','Edward','James','Amanda'],\n",
    "        'Age (QID)' : [23,19,22,25,30,18,18,16,28,29,21,\n",
    "                  25,18,27,19,13,25,19,18,19,23], \n",
    "        'Gender (QID)' : ['M','F','F','F','M','M','F','M','F','M','M','F','M','F',\n",
    "                'F','M','F','F','M','F','M'],\n",
    "        'Political Party' : ['Green Party','Red Party','Red Party','Green Party','Green Party',\n",
    "                'Red Party','Red Party','Green Party','Red Party','Green Party',\n",
    "                'Green Party','Green Party','Green Party','Red Party','Green Party',\n",
    "                'Red Party','Green Party','Red Party','Red Party','Red Party',\n",
    "                'Green Party']}\n",
    "                  \n",
    "df = pd.DataFrame(data=data)\n",
    "\n",
    "df['Name (ID)'] = '*'\n"
   ]
  },
  {
   "cell_type": "markdown",
   "id": "9725daf2-7181-443f-b6e9-9b243c284a6b",
   "metadata": {},
   "source": [
    "## Metrics functions"
   ]
  },
  {
   "cell_type": "code",
   "execution_count": 3,
   "id": "760ce315-7187-45b4-9ce7-9888bfc61bce",
   "metadata": {},
   "outputs": [],
   "source": [
    "def k_annonymity(df, qid):\n",
    "    \"\"\"returns the k annonymity value given the quasi-identifier field titles\n",
    "    \n",
    "    Parameters\n",
    "    ----------\n",
    "    df : DataFrame\n",
    "        dataframe for which k value is to be calculated\n",
    "    qid : list\n",
    "        list of quasi-identifier columns\n",
    "        \n",
    "    Returns\n",
    "    -------\n",
    "    int \n",
    "        k value \n",
    "    \"\"\"\n",
    "\n",
    "    quid_groupsize = df.groupby(qid).size()\n",
    "    return quid_groupsize[quid_groupsize > 0].min()\n",
    "\n",
    "\n",
    "def l_diversity(df, qid, sa):\n",
    "    \"\"\"returns the l diversity value given the quasi-identifier field titles\n",
    "    \n",
    "    Parameters\n",
    "    ----------\n",
    "    df : DataFrame\n",
    "        dataframe for which k value is to be calculated\n",
    "    qid : list\n",
    "        list of quasi-identifier columns\n",
    "    sa : list\n",
    "        list of sensitive attribute columns\n",
    "        \n",
    "    Returns\n",
    "    -------\n",
    "    int \n",
    "        l value \n",
    "    \"\"\"\n",
    "    sa_size_quids = df.groupby(qid)[sa].nunique()\n",
    "    return sa_size_quids[sa_size_quids > 0].squeeze().min() # This assumes only one SA!\n",
    "    # l-divesity generally only applies to a single SA \n",
    "    \n",
    "def GIL(uq, lq, u, l):\n",
    "    return (uq - lq) / (u - l)\n",
    "    "
   ]
  },
  {
   "cell_type": "markdown",
   "id": "0d12c88f-19a9-4207-8de7-d23868362445",
   "metadata": {},
   "source": [
    "# Record supression"
   ]
  },
  {
   "cell_type": "code",
   "execution_count": 4,
   "id": "f80b8324-38ef-4865-a093-0ccd4cd01d47",
   "metadata": {},
   "outputs": [
    {
     "data": {
      "application/vnd.jupyter.widget-view+json": {
       "model_id": "f58f12fdb1554be2af068c700ec3435e",
       "version_major": 2,
       "version_minor": 0
      },
      "text/plain": [
       "IntSlider(value=1, description='k value:', layout=Layout(width='400px'), max=5, min=1)"
      ]
     },
     "metadata": {},
     "output_type": "display_data"
    },
    {
     "data": {
      "application/vnd.jupyter.widget-view+json": {
       "model_id": "02fe88fa24ef45c79a4ccd317343ee75",
       "version_major": 2,
       "version_minor": 0
      },
      "text/plain": [
       "Output()"
      ]
     },
     "metadata": {},
     "output_type": "display_data"
    },
    {
     "data": {
      "application/vnd.jupyter.widget-view+json": {
       "model_id": "8a2e193d9add4a2c91975b8e68d79a0f",
       "version_major": 2,
       "version_minor": 0
      },
      "text/plain": [
       "Output()"
      ]
     },
     "metadata": {},
     "output_type": "display_data"
    }
   ],
   "source": [
    "k = widgets.IntSlider(value=1, min=1, max=5, description='k value:',layout=Layout(width='400px'))\n",
    "\n",
    "def f_supression(k):\n",
    "    QID = ['Age (QID)', 'Gender (QID)'] # define quasi-identifyer groups\n",
    "\n",
    "    orig_length = len(df)\n",
    "    new_length = len(df.groupby(QID).filter(lambda x: len(x)>=k))\n",
    "    print(\"%d%% of data supressed\" %(np.round(((orig_length - new_length) / orig_length)* 100)))\n",
    "\n",
    "def f_supression_data(k):\n",
    "    dfs = df.copy()\n",
    "    QID = ['Age (QID)', 'Gender (QID)']\n",
    "    index = dfs.groupby(QID).filter(lambda x: len(x)<k).index\n",
    "    dfs.iloc[index] = '----------'\n",
    "    display(dfs)\n",
    "\n",
    "out1 = widgets.interactive_output(f_supression, {'k': k})\n",
    "out2 = widgets.interactive_output(f_supression_data, {'k': k})\n",
    "\n",
    "display(k)\n",
    "display(out1)\n",
    "display(out2)"
   ]
  },
  {
   "cell_type": "markdown",
   "id": "ed0bf57d-e123-44f2-a6e4-60c10a8a73c8",
   "metadata": {},
   "source": [
    "# Combined"
   ]
  },
  {
   "cell_type": "code",
   "execution_count": 5,
   "id": "9ebd82da-bb48-4311-a0c7-9f3464ee1655",
   "metadata": {},
   "outputs": [
    {
     "data": {
      "application/vnd.jupyter.widget-view+json": {
       "model_id": "aa00f7af957e42e3a200013c3f65a5cd",
       "version_major": 2,
       "version_minor": 0
      },
      "text/plain": [
       "IntSlider(value=1, description='Step size:', layout=Layout(width='400px'), max=40, min=1)"
      ]
     },
     "metadata": {},
     "output_type": "display_data"
    },
    {
     "data": {
      "application/vnd.jupyter.widget-view+json": {
       "model_id": "5c8cb9e0c948400e9e465bcc3fca7a1c",
       "version_major": 2,
       "version_minor": 0
      },
      "text/plain": [
       "Output()"
      ]
     },
     "metadata": {},
     "output_type": "display_data"
    },
    {
     "data": {
      "application/vnd.jupyter.widget-view+json": {
       "model_id": "fa24da419307456eb2933b1ec882eca0",
       "version_major": 2,
       "version_minor": 0
      },
      "text/plain": [
       "Output()"
      ]
     },
     "metadata": {},
     "output_type": "display_data"
    },
    {
     "data": {
      "application/vnd.jupyter.widget-view+json": {
       "model_id": "7d101ad7be6f4e61bd8c2e351b196b8a",
       "version_major": 2,
       "version_minor": 0
      },
      "text/plain": [
       "Output()"
      ]
     },
     "metadata": {},
     "output_type": "display_data"
    }
   ],
   "source": [
    "step_size = widgets.IntSlider(value=1, min=1, max=40, description='Step size:',layout=Layout(width='400px'))\n",
    "\n",
    "def label_age(step_size):\n",
    "    print('Ages changed to %d year steps' %(step_size))\n",
    "\n",
    "def f_ranging(step_size):\n",
    "    dfs = df.copy()\n",
    "    dfs['ranged'] = np.floor((dfs['Age (QID)']/step_size))*step_size\n",
    "    dfs['ranged'] = dfs['ranged'].astype(int)\n",
    "    dfs['Age (QID)'] = dfs['ranged'].astype(str) + '-' + (dfs['ranged']+step_size).astype(str)\n",
    "    dfs = dfs.drop(columns=['ranged'])\n",
    "    display(dfs)\n",
    "\n",
    "\n",
    "def f_ranging_k(step_size):\n",
    "    dfs = df.copy()\n",
    "    dfs['ranged'] = np.floor((dfs['Age (QID)']/step_size))*step_size\n",
    "    dfs['ranged'] = dfs['ranged'].astype(int)\n",
    "    gil = GIL(max(dfs['ranged'] + step_size) , min(dfs['ranged']), max(dfs['Age (QID)']), min(dfs['Age (QID)']))\n",
    "    dfs['Age (QID)'] = dfs['ranged'].astype(str) + '-' + (dfs['ranged']+step_size).astype(str)\n",
    "    qid = ['Age (QID)', 'Gender (QID)'] # define quasi-identifyer groups\n",
    "    quid_groupsize = dfs.groupby(qid).size()\n",
    "    k_val = quid_groupsize[quid_groupsize > 0].min()\n",
    "    print('k-annonymity has a value of k = %d' %k_val)\n",
    "    print(\"Generalised information loss = %.3f\" %gil)\n",
    "    \n",
    "\n",
    "out1 = widgets.interactive_output(label_age, {'step_size': step_size})\n",
    "out2 = widgets.interactive_output(f_ranging_k, {'step_size': step_size})\n",
    "out3 = widgets.interactive_output(f_ranging, {'step_size': step_size})\n",
    "\n",
    "display(step_size)\n",
    "display(out1)\n",
    "display(out2)\n",
    "display(out3)\n",
    "\n"
   ]
  },
  {
   "cell_type": "markdown",
   "id": "872316da-81ab-4618-aa3d-36087372d59a",
   "metadata": {},
   "source": [
    "# Combined"
   ]
  },
  {
   "cell_type": "code",
   "execution_count": 6,
   "id": "98fe2cdb-78d1-4c60-8b10-9d493c6bd3dd",
   "metadata": {},
   "outputs": [
    {
     "name": "stdout",
     "output_type": "stream",
     "text": [
      "Set minimum privacy value with k-annonymity:\n"
     ]
    },
    {
     "data": {
      "application/vnd.jupyter.widget-view+json": {
       "model_id": "5890eaef45d448a3b9d01129e829f3e9",
       "version_major": 2,
       "version_minor": 0
      },
      "text/plain": [
       "IntSlider(value=1, layout=Layout(width='400px'), max=5, min=1)"
      ]
     },
     "metadata": {},
     "output_type": "display_data"
    },
    {
     "data": {
      "application/vnd.jupyter.widget-view+json": {
       "model_id": "0266e6bbff4041d1a3c23ee430182681",
       "version_major": 2,
       "version_minor": 0
      },
      "text/plain": [
       "Output()"
      ]
     },
     "metadata": {},
     "output_type": "display_data"
    },
    {
     "name": "stdout",
     "output_type": "stream",
     "text": [
      "\n",
      "\n",
      "Set age generalisation step size\n"
     ]
    },
    {
     "data": {
      "application/vnd.jupyter.widget-view+json": {
       "model_id": "20d61f5384c942958b48b24ea78549f5",
       "version_major": 2,
       "version_minor": 0
      },
      "text/plain": [
       "IntSlider(value=1, layout=Layout(width='400px'), max=40, min=1)"
      ]
     },
     "metadata": {},
     "output_type": "display_data"
    },
    {
     "data": {
      "application/vnd.jupyter.widget-view+json": {
       "model_id": "06db5bca64f34ddfa4b8ab88d3e9150f",
       "version_major": 2,
       "version_minor": 0
      },
      "text/plain": [
       "Output()"
      ]
     },
     "metadata": {},
     "output_type": "display_data"
    },
    {
     "name": "stdout",
     "output_type": "stream",
     "text": [
      "\n",
      "\n"
     ]
    },
    {
     "data": {
      "application/vnd.jupyter.widget-view+json": {
       "model_id": "9d752e6b9f9b463aa5faf88f1d09186d",
       "version_major": 2,
       "version_minor": 0
      },
      "text/plain": [
       "Output()"
      ]
     },
     "metadata": {},
     "output_type": "display_data"
    },
    {
     "data": {
      "application/vnd.jupyter.widget-view+json": {
       "model_id": "3cab88efdfc640b4a4da790dcc72e82b",
       "version_major": 2,
       "version_minor": 0
      },
      "text/plain": [
       "Output()"
      ]
     },
     "metadata": {},
     "output_type": "display_data"
    }
   ],
   "source": [
    "k = widgets.IntSlider(value=1, min=1, max=5, layout=Layout(width='400px'))\n",
    "step_size = widgets.IntSlider(value=1, min=1, max=40,layout=Layout(width='400px'))\n",
    "\n",
    "dfs = df.copy()\n",
    "\n",
    "def meassure_supression(k, step_size):\n",
    "    QID = ['Age (QID)', 'Gender (QID)'] # define quasi-identifyer groups\n",
    "    \n",
    "    dfs = df.copy()\n",
    "    dfs['ranged'] = np.floor((dfs['Age (QID)']/step_size))*step_size\n",
    "    dfs['ranged'] = dfs['ranged'].astype(int)\n",
    "    dfs['Age (QID)'] = dfs['ranged'].astype(str) + '-' + (dfs['ranged']+step_size).astype(str)\n",
    "    dfs = dfs.drop(columns=['ranged'])\n",
    "\n",
    "    orig_length = len(df)\n",
    "    new_length = len(dfs.groupby(QID).filter(lambda x: len(x)>=k))\n",
    "    print(\"%d%% of data supressed to achieve privacy\" %(np.round(((orig_length - new_length) / orig_length)* 100)))\n",
    "\n",
    "def generalise_supress(k, step_size):\n",
    "    dfs = df.copy()\n",
    "    dfs['ranged'] = np.floor((dfs['Age (QID)']/step_size))*step_size\n",
    "    dfs['ranged'] = dfs['ranged'].astype(int)\n",
    "    dfs['Age (QID)'] = dfs['ranged'].astype(str) + '-' + (dfs['ranged']+step_size).astype(str)\n",
    "    dfs = dfs.drop(columns=['ranged'])\n",
    "    QID = ['Age (QID)', 'Gender (QID)']\n",
    "    index = dfs.groupby(QID).filter(lambda x: len(x)<k).index\n",
    "    dfs.iloc[index] = '----------'\n",
    "#     display(dfs)\n",
    "    display(HTML(dfs.to_html(index=False)))\n",
    "\n",
    "    \n",
    "def label_age(step_size):\n",
    "    print('Ages changed to %d year steps' %(step_size))\n",
    "    \n",
    "\n",
    "def meassure_k(k, step_size):\n",
    "    dfs = df.copy()\n",
    "    dfs['ranged'] = np.floor((dfs['Age (QID)']/step_size))*step_size\n",
    "    dfs['ranged'] = dfs['ranged'].astype(int)\n",
    "    gil = GIL(max(dfs['ranged'] + step_size) , min(dfs['ranged']), max(dfs['Age (QID)']), min(dfs['Age (QID)']))\n",
    "    dfs['Age (QID)'] = dfs['ranged'].astype(str) + '-' + (dfs['ranged']+step_size).astype(str)\n",
    "    \n",
    "    dfs = dfs.groupby(QID).filter(lambda x: len(x)>=k)\n",
    "\n",
    "    qid = ['Age (QID)', 'Gender (QID)'] # define quasi-identifyer groups\n",
    "    quid_groupsize = dfs.groupby(qid).size()\n",
    "    k_val = quid_groupsize[quid_groupsize > 0].min()\n",
    "    if np.isnan(k_val): k_val = 0\n",
    "    print('k-annonymity has a value of k = %d' %k_val)\n",
    "    print(\"Generalised information loss = %.3f\" %gil)\n",
    "\n",
    "    \n",
    "out1 = widgets.interactive_output(meassure_supression, {'k': k, 'step_size': step_size})\n",
    "out2 = widgets.interactive_output(generalise_supress, {'k': k, 'step_size': step_size})\n",
    "\n",
    "out3 = widgets.interactive_output(label_age, {'step_size': step_size})\n",
    "out4 = widgets.interactive_output(meassure_k, {'k': k, 'step_size': step_size})\n",
    "\n",
    "print('Set minimum privacy value with k-annonymity:')\n",
    "display(k)\n",
    "display(out1)\n",
    "\n",
    "print('\\n')\n",
    "\n",
    "print('Set age generalisation step size')\n",
    "display(step_size)\n",
    "display(out3)\n",
    "\n",
    "print('\\n')\n",
    "\n",
    "display(out4)\n",
    "display(out2)\n"
   ]
  },
  {
   "cell_type": "markdown",
   "id": "85dd7a48-430e-42eb-af27-15e0eda36866",
   "metadata": {},
   "source": [
    "# Plots"
   ]
  },
  {
   "cell_type": "code",
   "execution_count": 7,
   "id": "f51e2498-c9fe-4115-af83-cc295ec61c07",
   "metadata": {},
   "outputs": [],
   "source": [
    "# record supression vs k_annonymity\n",
    "QID = ['Age (QID)', 'Gender (QID)'] # define quasi-identifyer groups\n",
    "orig_length = len(df)\n",
    "supressed_vals = []\n",
    "k_vals = np.arange(1, 6)\n",
    "\n",
    "for i in k_vals:     \n",
    "    new_length = len(df.groupby(QID).filter(lambda x: len(x)>=i))\n",
    "    supressed_vals.append(((orig_length - new_length) / orig_length)* 100)\n",
    "    "
   ]
  },
  {
   "cell_type": "code",
   "execution_count": 8,
   "id": "43d2ff35-f8f7-4a92-847a-fa01aa390521",
   "metadata": {},
   "outputs": [
    {
     "data": {
      "text/plain": [
       "Text(0, 0.5, 'k-annonymity value')"
      ]
     },
     "execution_count": 8,
     "metadata": {},
     "output_type": "execute_result"
    },
    {
     "data": {
      "image/png": "[encoded data removed]",
      "text/plain": [
       "<Figure size 432x288 with 1 Axes>"
      ]
     },
     "metadata": {
      "needs_background": "light"
     },
     "output_type": "display_data"
    }
   ],
   "source": [
    "plt.plot(supressed_vals, k_vals, c='k')\n",
    "plt.scatter(supressed_vals, k_vals, marker='x', c='k')\n",
    "plt.xlabel(\"percentage of data supressed\") \n",
    "plt.ylabel(\"k-annonymity value\")\n"
   ]
  },
  {
   "cell_type": "code",
   "execution_count": null,
   "id": "df34983b-fbae-4e74-876d-a7fe66376d10",
   "metadata": {},
   "outputs": [],
   "source": [
    "dfs = df.copy()\n",
    "qid = ['ranged', 'Gender (QID)'] # define quasi-identifyer groups\n",
    "k_vals = []\n",
    "generalise_vals = np.arange(1, 40)\n",
    "\n",
    "for step_size in generalise_vals:\n",
    "    dfs['ranged'] = np.floor((dfs['Age (QID)'] / step_size))*step_size\n",
    "    dfs['ranged'] = dfs['ranged'].astype(int)\n",
    "    k_vals.append(k_annonymity(dfs, qid))\n"
   ]
  },
  {
   "cell_type": "code",
   "execution_count": null,
   "id": "5a8e5ec6-24e5-401e-9eec-e3314eb93df9",
   "metadata": {},
   "outputs": [],
   "source": [
    "\n",
    "plt.plot(generalise_vals, k_vals, c='k')\n",
    "plt.scatter(generalise_vals, k_vals, marker='x', c='k')\n",
    "plt.xlabel(\"percentage of data supressed\") \n",
    "plt.ylabel(\"k-annonymity value\")\n"
   ]
  },
  {
   "cell_type": "code",
   "execution_count": 10,
   "metadata": {},
   "outputs": [
    {
     "name": "stdout",
     "output_type": "stream",
     "text": [
      "Requirement already satisfied: matplotlib in c:\\users\\kiran\\appdata\\local\\programs\\python\\python37\\lib\\site-packages (3.4.3)\n",
      "Requirement already satisfied: kiwisolver>=1.0.1 in c:\\users\\kiran\\appdata\\local\\programs\\python\\python37\\lib\\site-packages (from matplotlib) (1.3.2)\n",
      "Requirement already satisfied: pyparsing>=2.2.1 in c:\\users\\kiran\\appdata\\local\\programs\\python\\python37\\lib\\site-packages (from matplotlib) (2.4.7)\n",
      "Requirement already satisfied: python-dateutil>=2.7 in c:\\users\\kiran\\appdata\\local\\programs\\python\\python37\\lib\\site-packages (from matplotlib) (2.8.2)\n",
      "Requirement already satisfied: cycler>=0.10 in c:\\users\\kiran\\appdata\\local\\programs\\python\\python37\\lib\\site-packages (from matplotlib) (0.10.0)\n",
      "Requirement already satisfied: numpy>=1.16 in c:\\users\\kiran\\appdata\\local\\programs\\python\\python37\\lib\\site-packages (from matplotlib) (1.21.3)\n",
      "Requirement already satisfied: pillow>=6.2.0 in c:\\users\\kiran\\appdata\\local\\programs\\python\\python37\\lib\\site-packages (from matplotlib) (8.4.0)\n",
      "Requirement already satisfied: six in c:\\users\\kiran\\appdata\\local\\programs\\python\\python37\\lib\\site-packages (from cycler>=0.10->matplotlib) (1.16.0)\n",
      "Note: you may need to restart the kernel to use updated packages.\n"
     ]
    },
    {
     "name": "stderr",
     "output_type": "stream",
     "text": [
      "WARNING: You are using pip version 21.3; however, version 21.3.1 is available.\n",
      "You should consider upgrading via the 'C:\\Users\\kiran\\AppData\\Local\\Programs\\Python\\Python37\\python.exe -m pip install --upgrade pip' command.\n"
     ]
    }
   ],
   "source": [
    "pip install matplotlib"
   ]
  },
  {
   "cell_type": "code",
   "execution_count": null,
   "metadata": {},
   "outputs": [],
   "source": []
  }
 ],
 "metadata": {
  "kernelspec": {
   "display_name": "Python 3 (ipykernel)",
   "language": "python",
   "name": "python3"
  },
  "language_info": {
   "codemirror_mode": {
    "name": "ipython",
    "version": 3
   },
   "file_extension": ".py",
   "mimetype": "text/x-python",
   "name": "python",
   "nbconvert_exporter": "python",
   "pygments_lexer": "ipython3",
   "version": "3.7.9"
  }
 },
 "nbformat": 4,
 "nbformat_minor": 5
}
