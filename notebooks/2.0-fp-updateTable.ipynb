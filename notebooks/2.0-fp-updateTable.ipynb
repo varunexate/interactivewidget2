{
 "cells": [
  {
   "cell_type": "code",
   "execution_count": 1,
   "id": "d05a6501-b463-486c-8a39-fdc8c7734e1d",
   "metadata": {},
   "outputs": [],
   "source": [
    "import numpy as np\n",
    "import pandas as pd\n",
    "import cx_Oracle\n",
    "from sqlalchemy import types, create_engine\n",
    "import os\n",
    "import random\n",
    "from pretty_html_table import build_table"
   ]
  },
  {
   "cell_type": "code",
   "execution_count": 3,
   "id": "c80f835d-1cff-44f0-aaa9-1e8c5b764332",
   "metadata": {},
   "outputs": [],
   "source": [
    "ORACLE_USER = os.environ[\"ORACLE_USER\"]\n",
    "ORACLE_SERVICE_NAME = os.environ[\"ORACLE_SERVICE_NAME\"]\n",
    "ORACLE_HOST = os.environ[\"ORACLE_HOST\"]\n",
    "ORACLE_PORT = os.environ[\"ORACLE_PORT\"]\n",
    "ORACLE_PASSWORD = os.environ[\"ORACLE_PASSWORD\"]\n",
    "\n",
    "engine = create_engine(f'oracle+cx_oracle://{ORACLE_USER}:{ORACLE_PASSWORD}@{ORACLE_HOST}:{ORACLE_PORT}/{ORACLE_SERVICE_NAME}')\n",
    "conn = engine.connect()\n",
    "df = pd.read_sql(\"SELECT * FROM SENSITIVE_PETS_TESTS_NAMED\", conn)\n",
    "\n"
   ]
  },
  {
   "cell_type": "code",
   "execution_count": 4,
   "id": "08c84e14-ddfc-4c6e-80ad-dcccdc386406",
   "metadata": {},
   "outputs": [],
   "source": [
    "last_purchase = [\"Pentolina\", \"Hotel Chocolat\", \"Hotel Chocolat\", \"Pentolina\", \"Pentolina\", \"Hotel Chocolat\", \"Hotel Chocolat\", \"Pentolina\", \"Hotel Chocolat\", \"Pentolina\", \n",
    "\"Pentolina\", \"Pentolina\", \"Pentolina\", \"Hotel Chocolat\", \"Pentolina\", \"Hotel Chocolat\", \"Pentolina\", \"Hotel Chocolat\", \"Hotel Chocolat\", \"Hotel Chocolat\",\"Pentolina\"]"
   ]
  },
  {
   "cell_type": "code",
   "execution_count": 5,
   "id": "c5e2f622-c51d-43ac-b518-a3cc147a4fd9",
   "metadata": {},
   "outputs": [],
   "source": [
    "df[\"LASTPURCHASE\"] = last_purchase"
   ]
  },
  {
   "cell_type": "code",
   "execution_count": 6,
   "id": "1b379029-6027-4096-a75a-a904688ac432",
   "metadata": {},
   "outputs": [
    {
     "data": {
      "text/html": [
       "<div>\n",
       "<style scoped>\n",
       "    .dataframe tbody tr th:only-of-type {\n",
       "        vertical-align: middle;\n",
       "    }\n",
       "\n",
       "    .dataframe tbody tr th {\n",
       "        vertical-align: top;\n",
       "    }\n",
       "\n",
       "    .dataframe thead th {\n",
       "        text-align: right;\n",
       "    }\n",
       "</style>\n",
       "<table border=\"1\" class=\"dataframe\">\n",
       "  <thead>\n",
       "    <tr style=\"text-align: right;\">\n",
       "      <th></th>\n",
       "      <th>name</th>\n",
       "      <th>age</th>\n",
       "      <th>gender</th>\n",
       "      <th>foodchoice</th>\n",
       "      <th>LASTPURCHASE</th>\n",
       "    </tr>\n",
       "  </thead>\n",
       "  <tbody>\n",
       "    <tr>\n",
       "      <th>0</th>\n",
       "      <td>Bill</td>\n",
       "      <td>23</td>\n",
       "      <td>M</td>\n",
       "      <td>Spagetti</td>\n",
       "      <td>Pentolina</td>\n",
       "    </tr>\n",
       "    <tr>\n",
       "      <th>1</th>\n",
       "      <td>Julia</td>\n",
       "      <td>19</td>\n",
       "      <td>F</td>\n",
       "      <td>Chocolate</td>\n",
       "      <td>Hotel Chocolat</td>\n",
       "    </tr>\n",
       "    <tr>\n",
       "      <th>2</th>\n",
       "      <td>Rose</td>\n",
       "      <td>22</td>\n",
       "      <td>F</td>\n",
       "      <td>Chocolate</td>\n",
       "      <td>Hotel Chocolat</td>\n",
       "    </tr>\n",
       "    <tr>\n",
       "      <th>3</th>\n",
       "      <td>Gwen</td>\n",
       "      <td>25</td>\n",
       "      <td>F</td>\n",
       "      <td>Spagetti</td>\n",
       "      <td>Pentolina</td>\n",
       "    </tr>\n",
       "    <tr>\n",
       "      <th>4</th>\n",
       "      <td>Peter</td>\n",
       "      <td>30</td>\n",
       "      <td>M</td>\n",
       "      <td>Spagetti</td>\n",
       "      <td>Pentolina</td>\n",
       "    </tr>\n",
       "  </tbody>\n",
       "</table>\n",
       "</div>"
      ],
      "text/plain": [
       "    name  age gender foodchoice    LASTPURCHASE\n",
       "0   Bill   23      M   Spagetti       Pentolina\n",
       "1  Julia   19      F  Chocolate  Hotel Chocolat\n",
       "2   Rose   22      F  Chocolate  Hotel Chocolat\n",
       "3   Gwen   25      F   Spagetti       Pentolina\n",
       "4  Peter   30      M   Spagetti       Pentolina"
      ]
     },
     "execution_count": 6,
     "metadata": {},
     "output_type": "execute_result"
    }
   ],
   "source": [
    "dfs = df.rename(columns={\"Name (ID)\":\"NAME\", \"Age (QID)\":\"AGE\", \"Gender (QID)\":\"GENDER\", \"Food choice\":\"FOODCHOICE\"})\n",
    "dfs.head()"
   ]
  },
  {
   "cell_type": "code",
   "execution_count": 8,
   "id": "bfac9079-9711-4667-b5bd-8e296b388dc2",
   "metadata": {},
   "outputs": [],
   "source": [
    "dtyp = {c:types.VARCHAR(df[c].str.len().max())\n",
    "        for c in dfs.columns[dfs.dtypes == 'object'].tolist()}\n",
    "\n",
    "table_name = f\"SENSITIVE_PETS_TESTS_EXTRA\"\n",
    "dfs.to_sql(table_name, conn, dtype=dtyp, index=False)"
   ]
  },
  {
   "cell_type": "code",
   "execution_count": null,
   "id": "62a23e02-784e-4827-ae23-960dbcc27f1d",
   "metadata": {},
   "outputs": [],
   "source": []
  }
 ],
 "metadata": {
  "kernelspec": {
   "display_name": "Python 3 (ipykernel)",
   "language": "python",
   "name": "python3"
  },
  "language_info": {
   "codemirror_mode": {
    "name": "ipython",
    "version": 3
   },
   "file_extension": ".py",
   "mimetype": "text/x-python",
   "name": "python",
   "nbconvert_exporter": "python",
   "pygments_lexer": "ipython3",
   "version": "3.9.7"
  }
 },
 "nbformat": 4,
 "nbformat_minor": 5
}
